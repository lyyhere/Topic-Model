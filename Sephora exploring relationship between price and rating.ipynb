{
 "cells": [
  {
   "cell_type": "code",
   "execution_count": 105,
   "metadata": {},
   "outputs": [
    {
     "data": {
      "text/html": [
       "<style>.container { width:100% !important; }</style>"
      ],
      "text/plain": [
       "<IPython.core.display.HTML object>"
      ]
     },
     "metadata": {},
     "output_type": "display_data"
    }
   ],
   "source": [
    "import json\n",
    "import json\n",
    "import pickle\n",
    "from IPython.core.display import display, HTML\n",
    "display(HTML(\"<style>.container { width:100% !important; }</style>\"))\n",
    "# %config InlineBackend.figure_format = 'retina'\n",
    "\n",
    "# import os\n",
    "# import sys\n",
    "# import operator\n",
    "\n",
    "import numpy as np\n",
    "import pandas as pd\n",
    "from math import log, log10\n",
    "# import scipy.stats as scs\n",
    "# import matplotlib.pyplot as plt\n",
    "# import seaborn as sns\n",
    "# import matplotlib.dates as mdates\n",
    "# %matplotlib inline\n",
    "# import json\n",
    "\n",
    "# model imports\n",
    "from sklearn.ensemble import RandomForestRegressor\n",
    "from sklearn.ensemble import GradientBoostingClassifier\n",
    "from sklearn.metrics import mean_squared_error, r2_score, mean_absolute_error\n",
    "from sklearn.model_selection import train_test_split\n",
    "\n",
    "\n",
    "# # model evaluation imports\n",
    "# from sklearn import model_selection, preprocessing, ensemble\n",
    "# from sklearn.metrics import log_loss\n",
    "# from sklearn.feature_extraction.text import TfidfVectorizer, CountVectorizer\n",
    "from sklearn.model_selection import KFold\n",
    "\n",
    "\n",
    "import nltk\n",
    "from nltk.tokenize import RegexpTokenizer\n",
    "from nltk.corpus import stopwords \n",
    "from nltk.stem.wordnet import WordNetLemmatizer\n",
    "import string\n",
    "from nltk.stem.snowball import SnowballStemmer\n",
    "from gensim import corpora, models, similarities\n",
    "\n",
    "from sklearn.feature_extraction.text import TfidfTransformer\n",
    "from sklearn.feature_extraction.text import TfidfVectorizer\n",
    "from sklearn.decomposition import NMF\n",
    "from sklearn.metrics.pairwise import cosine_similarity\n",
    "from sklearn.metrics.pairwise import linear_kernel\n",
    "from sklearn import linear_model\n",
    "from sklearn.metrics import confusion_matrix\n",
    "from sklearn.metrics import classification_report\n",
    "\n",
    "import matplotlib.pyplot as plt\n",
    "from sklearn.manifold import MDS\n",
    "\n",
    "from gensim.models.coherencemodel import CoherenceModel\n",
    "from sklearn.decomposition import NMF\n",
    "\n",
    "\n",
    "from gensim.models.ldamodel import LdaModel\n",
    "from gensim.corpora.dictionary import Dictionary\n",
    "import pyLDAvis.gensim\n",
    "\n",
    " \n",
    "from sklearn.cluster import KMeans\n",
    "from sklearn import metrics\n",
    "from scipy.spatial.distance import cdist\n",
    "\n",
    "from sklearn.metrics import confusion_matrix\n",
    "from sklearn.svm import SVC\n",
    "\n",
    "from sklearn.feature_extraction.text import TfidfTransformer\n",
    "from sklearn.feature_extraction.text import TfidfVectorizer\n",
    "from sklearn.decomposition import NMF\n"
   ]
  },
  {
   "cell_type": "code",
   "execution_count": 2,
   "metadata": {
    "collapsed": true
   },
   "outputs": [],
   "source": [
    "def load_df(filename):\n",
    "    with open(filename, 'rb') as f:\n",
    "            print(\"Loading picked\")\n",
    "            return pickle.load(f)\n",
    "\n",
    "def pickle_df(df, filename=\"./df.pickle\"):\n",
    "    if filename:\n",
    "        print(\"Writing to\", filename)\n",
    "        with open(filename, \"wb\") as output_file:\n",
    "                pickle.dump(df, output_file, protocol=4)"
   ]
  },
  {
   "cell_type": "code",
   "execution_count": 6,
   "metadata": {},
   "outputs": [
    {
     "name": "stdout",
     "output_type": "stream",
     "text": [
      "Loading picked\n"
     ]
    }
   ],
   "source": [
    "df = load_df(\"df_ing_9_23.pickle\")"
   ]
  },
  {
   "cell_type": "code",
   "execution_count": 7,
   "metadata": {
    "collapsed": true
   },
   "outputs": [],
   "source": [
    "stop = stopwords.words('english')"
   ]
  },
  {
   "cell_type": "code",
   "execution_count": 26,
   "metadata": {
    "scrolled": true
   },
   "outputs": [
    {
     "data": {
      "image/png": "[encoded data removed]",
      "text/plain": [
       "<matplotlib.figure.Figure at 0x1132afe48>"
      ]
     },
     "metadata": {},
     "output_type": "display_data"
    }
   ],
   "source": [
    "df_graph = df.dropna(axis=0, how='any')\n",
    "x = df_graph['cost_per_oz'].values\n",
    "y = df_graph['rating'].values\n",
    "plt.plot(x, y, 'o', )\n",
    "\n",
    "plt.title('Per unit price vs. Average rating')\n",
    "\n",
    "plt.xlabel('Cost per oz', fontsize =12)\n",
    "plt.ylabel('Average rating', fontsize =12)\n",
    "\n",
    "z = np.polyfit(x, y, 1)\n",
    "p = np.poly1d(z)\n",
    "plt.plot(x,p(x),\"b-\", alpha = 0.1)\n",
    "\n",
    "\n",
    "plt.show()"
   ]
  },
  {
   "cell_type": "code",
   "execution_count": 91,
   "metadata": {},
   "outputs": [
    {
     "name": "stdout",
     "output_type": "stream",
     "text": [
      "Loading picked\n"
     ]
    }
   ],
   "source": [
    "df_doc = load_df(\"df_reviews_only.pickle\")"
   ]
  },
  {
   "cell_type": "code",
   "execution_count": 35,
   "metadata": {},
   "outputs": [],
   "source": [
    "## TF-IDF and NMF to display topics\n",
    "def display_topics(model, feature_names, no_top_words):\n",
    "    for topic_idx, topic in enumerate(model.components_):\n",
    "        print(\"Topic %d: \" % (topic_idx), end=\"\")\n",
    "        print(\" \".join([feature_names[i]\n",
    "                        for i in topic.argsort()[:-no_top_words - 1:-1]]))\n",
    "\n",
    "#no_features = 1000\n",
    "\n",
    "stop = stopwords.words('english')"
   ]
  },
  {
   "cell_type": "code",
   "execution_count": 111,
   "metadata": {},
   "outputs": [],
   "source": [
    "exclude = set(string.punctuation) \n",
    "stop = list(exclude) + stopwords.words('english')\n",
    "snowball = SnowballStemmer('english')\n",
    "lemma = WordNetLemmatizer()\n",
    "tokenizer = RegexpTokenizer(r'\\w+')\n",
    "\n",
    "def clean(doc):\n",
    "    tokens = \" \".join(nltk.word_tokenize(doc)).lower()\n",
    "    stop_free = \" \".join([i for i in tokens.split() if i not in stop])\n",
    "    normalized = \" \".join(snowball.stem(word) for word in stop_free.split(\" \"))\n",
    "    return normalized"
   ]
  },
  {
   "cell_type": "code",
   "execution_count": 48,
   "metadata": {},
   "outputs": [],
   "source": [
    "doc_clean= [clean(doc) for doc in df_doc.rev_description]"
   ]
  },
  {
   "cell_type": "code",
   "execution_count": 50,
   "metadata": {
    "collapsed": true
   },
   "outputs": [],
   "source": [
    "doc_clean = pd.DataFrame(doc_clean)"
   ]
  },
  {
   "cell_type": "code",
   "execution_count": 51,
   "metadata": {},
   "outputs": [],
   "source": [
    "doc_clean.to_pickle('doc_clean.pickle') "
   ]
  },
  {
   "cell_type": "code",
   "execution_count": 65,
   "metadata": {},
   "outputs": [
    {
     "data": {
      "text/plain": [
       "0                                 husband love anthony line\n",
       "1                        amazing day moisturizer love smell\n",
       "2         lotion would probably good clean shaven howeve...\n",
       "3         bought husband disappointed read ingredient li...\n",
       "4         husband used believe best men 's moisturizer s...\n",
       "5         purchased hubby dry skin face nose area moistu...\n",
       "6         dad somewhat sensitive dry skin really n't kno...\n",
       "7         boyfriend treated shopping day sephora given s...\n",
       "8         recently received sample moisturizer mail gave...\n",
       "9         use product every morning every night quickly ...\n",
       "10        absolutely love product used 2 year along eye ...\n",
       "11        bought lotion based review one men 's magazine...\n",
       "12        hand best men moisturizer market skin really c...\n",
       "13        bought facial cleanser cleanser n't sap away m...\n",
       "14        bought bf work skin dry skin thought moisturiz...\n",
       "15        17 yr old son like this.what really hate matur...\n",
       "16                      boyfriend 's skin soft smooth using\n",
       "17        bought bf noticed skin lot moisturized enjoys ...\n",
       "18                              nice lightweight mosturizer\n",
       "19        bought facial moisturizer husband since quietl...\n",
       "20                           husband product guy love stuff\n",
       "21        use moisturizer regularly think really make di...\n",
       "22                          bought father said good product\n",
       "23           moisturizer excellent also add good color skin\n",
       "24        hate greasy lotion fact reason never wore past...\n",
       "25        good review bought effect got ta look another ...\n",
       "26        've using past number month product seems melt...\n",
       "27        son love anthony men 's using 5 year tried use...\n",
       "28        anthony product great facial cream light yet e...\n",
       "29        's light greasy lightly scented purchased gift...\n",
       "                                ...                        \n",
       "349967    love ptr product bought product getting adult ...\n",
       "349968    started using two weekes ago ... best pore ski...\n",
       "349969    problem skin- acne hyperpigmentation rough ski...\n",
       "349970    real tingle smoother noticable mattifing effec...\n",
       "349971    could give product higher 5 star would huge di...\n",
       "349972    red sensitive skin use product night wait time...\n",
       "349973    great product skin look clean polished 2 week ...\n",
       "349974    product harsh people say doesnt dry skin clear...\n",
       "349975    bought month wedding cleared tiny bump forehea...\n",
       "349976    absolutely loveeee finally decided splurge lil...\n",
       "349977    terrible enlarged pore oily skin breakout prod...\n",
       "349978         love pad use every day washing makeup go bed\n",
       "349979    completely satisfied product acne adult year b...\n",
       "349980    pleasantly surprised product time arrived brea...\n",
       "349981       love sensitive skin cautious strong sting/burn\n",
       "349982    happy two week using product cleaned blackhead...\n",
       "349983    used alot complexion pad never seen fast resul...\n",
       "349984    problem skin could great addition skincare rou...\n",
       "349985    intensive treatment 's bit much everyday use s...\n",
       "349986    love pad usually weary trying new skincare pro...\n",
       "349987    pad amazing oily skin perfect type skin notice...\n",
       "349988    love love love pad follow pad time per wk clea...\n",
       "349989         love product helped acne smellsgood easy use\n",
       "349990    using max complexion correction pad year great...\n",
       "349991    50 oily skin growing wart stuff really helped ...\n",
       "349992                          product good job living say\n",
       "349993    quick convenient portable probably effective t...\n",
       "349994    great dealing tough acne help dry acne really ...\n",
       "349995    dried skin healing blemish expensive stop usin...\n",
       "349996    lovely peach scent better pad really clear ski...\n",
       "Name: 0, Length: 349997, dtype: object"
      ]
     },
     "execution_count": 65,
     "metadata": {},
     "output_type": "execute_result"
    }
   ],
   "source": [
    "doc_clean[0]"
   ]
  },
  {
   "cell_type": "code",
   "execution_count": 77,
   "metadata": {},
   "outputs": [
    {
     "data": {
      "text/plain": [
       "0                                 husband love anthony line\n",
       "1                        amazing day moisturizer love smell\n",
       "2         lotion would probably good clean shaven howeve...\n",
       "3         bought husband disappointed read ingredient li...\n",
       "4         husband used believe best men 's moisturizer s...\n",
       "5         purchased hubby dry skin face nose area moistu...\n",
       "6         dad somewhat sensitive dry skin really n't kno...\n",
       "7         boyfriend treated shopping day sephora given s...\n",
       "8         recently received sample moisturizer mail gave...\n",
       "9         use product every morning every night quickly ...\n",
       "10        absolutely love product used 2 year along eye ...\n",
       "11        bought lotion based review one men 's magazine...\n",
       "12        hand best men moisturizer market skin really c...\n",
       "13        bought facial cleanser cleanser n't sap away m...\n",
       "14        bought bf work skin dry skin thought moisturiz...\n",
       "15        17 yr old son like this.what really hate matur...\n",
       "16                      boyfriend 's skin soft smooth using\n",
       "17        bought bf noticed skin lot moisturized enjoys ...\n",
       "18                              nice lightweight mosturizer\n",
       "19        bought facial moisturizer husband since quietl...\n",
       "20                           husband product guy love stuff\n",
       "21        use moisturizer regularly think really make di...\n",
       "22                          bought father said good product\n",
       "23           moisturizer excellent also add good color skin\n",
       "24        hate greasy lotion fact reason never wore past...\n",
       "25        good review bought effect got ta look another ...\n",
       "26        've using past number month product seems melt...\n",
       "27        son love anthony men 's using 5 year tried use...\n",
       "28        anthony product great facial cream light yet e...\n",
       "29        's light greasy lightly scented purchased gift...\n",
       "                                ...                        \n",
       "349967    love ptr product bought product getting adult ...\n",
       "349968    started using two weekes ago ... best pore ski...\n",
       "349969    problem skin- acne hyperpigmentation rough ski...\n",
       "349970    real tingle smoother noticable mattifing effec...\n",
       "349971    could give product higher 5 star would huge di...\n",
       "349972    red sensitive skin use product night wait time...\n",
       "349973    great product skin look clean polished 2 week ...\n",
       "349974    product harsh people say doesnt dry skin clear...\n",
       "349975    bought month wedding cleared tiny bump forehea...\n",
       "349976    absolutely loveeee finally decided splurge lil...\n",
       "349977    terrible enlarged pore oily skin breakout prod...\n",
       "349978         love pad use every day washing makeup go bed\n",
       "349979    completely satisfied product acne adult year b...\n",
       "349980    pleasantly surprised product time arrived brea...\n",
       "349981       love sensitive skin cautious strong sting/burn\n",
       "349982    happy two week using product cleaned blackhead...\n",
       "349983    used alot complexion pad never seen fast resul...\n",
       "349984    problem skin could great addition skincare rou...\n",
       "349985    intensive treatment 's bit much everyday use s...\n",
       "349986    love pad usually weary trying new skincare pro...\n",
       "349987    pad amazing oily skin perfect type skin notice...\n",
       "349988    love love love pad follow pad time per wk clea...\n",
       "349989         love product helped acne smellsgood easy use\n",
       "349990    using max complexion correction pad year great...\n",
       "349991    50 oily skin growing wart stuff really helped ...\n",
       "349992                          product good job living say\n",
       "349993    quick convenient portable probably effective t...\n",
       "349994    great dealing tough acne help dry acne really ...\n",
       "349995    dried skin healing blemish expensive stop usin...\n",
       "349996    lovely peach scent better pad really clear ski...\n",
       "Name: 0, Length: 349997, dtype: object"
      ]
     },
     "execution_count": 77,
     "metadata": {},
     "output_type": "execute_result"
    }
   ],
   "source": [
    "doc_clean[0]"
   ]
  }
 ],
 "metadata": {
  "kernelspec": {
   "display_name": "Python [default]",
   "language": "python",
   "name": "python3"
  },
  "language_info": {
   "codemirror_mode": {
    "name": "ipython",
    "version": 3
   },
   "file_extension": ".py",
   "mimetype": "text/x-python",
   "name": "python",
   "nbconvert_exporter": "python",
   "pygments_lexer": "ipython3",
   "version": "3.5.3"
  }
 },
 "nbformat": 4,
 "nbformat_minor": 2
}
